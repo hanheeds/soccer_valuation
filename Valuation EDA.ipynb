{
 "cells": [
  {
   "cell_type": "code",
   "execution_count": 1,
   "id": "fa0bb3a3",
   "metadata": {},
   "outputs": [],
   "source": [
    "import numpy as np\n",
    "import pandas as pd\n",
    "import sklearn as sk\n",
    "import sklearn.model_selection\n",
    "import matplotlib.pyplot as plt\n",
    "import seaborn as sns\n",
    "import re"
   ]
  },
  {
   "cell_type": "code",
   "execution_count": 2,
   "id": "5311adc0",
   "metadata": {},
   "outputs": [],
   "source": [
    "df = pd.read_csv('premierleague_profiles.csv')"
   ]
  },
  {
   "cell_type": "code",
   "execution_count": 3,
   "id": "1eaaed6f",
   "metadata": {},
   "outputs": [
    {
     "data": {
      "text/html": [
       "<div>\n",
       "<style scoped>\n",
       "    .dataframe tbody tr th:only-of-type {\n",
       "        vertical-align: middle;\n",
       "    }\n",
       "\n",
       "    .dataframe tbody tr th {\n",
       "        vertical-align: top;\n",
       "    }\n",
       "\n",
       "    .dataframe thead th {\n",
       "        text-align: right;\n",
       "    }\n",
       "</style>\n",
       "<table border=\"1\" class=\"dataframe\">\n",
       "  <thead>\n",
       "    <tr style=\"text-align: right;\">\n",
       "      <th></th>\n",
       "      <th>Full name:</th>\n",
       "      <th>Date of birth:</th>\n",
       "      <th>Place of birth:</th>\n",
       "      <th>Age:</th>\n",
       "      <th>Height:</th>\n",
       "      <th>Citizenship:</th>\n",
       "      <th>Position:</th>\n",
       "      <th>Foot:</th>\n",
       "      <th>Player agent:</th>\n",
       "      <th>Current club:</th>\n",
       "      <th>...</th>\n",
       "      <th>Date of last contract extension:</th>\n",
       "      <th>Outfitter:</th>\n",
       "      <th>Social-Media:</th>\n",
       "      <th>Market Value</th>\n",
       "      <th>Name in home country:</th>\n",
       "      <th>Contract option:</th>\n",
       "      <th>2nd club:</th>\n",
       "      <th>3nd club:</th>\n",
       "      <th>On loan from:</th>\n",
       "      <th>Contract there expires:</th>\n",
       "    </tr>\n",
       "  </thead>\n",
       "  <tbody>\n",
       "    <tr>\n",
       "      <th>0</th>\n",
       "      <td>Ederson</td>\n",
       "      <td>Aug 17, 1993</td>\n",
       "      <td>Osasco (SP)</td>\n",
       "      <td>28</td>\n",
       "      <td>1,88 m</td>\n",
       "      <td>Brazil  Portugal</td>\n",
       "      <td>Goalkeeper        ...</td>\n",
       "      <td>left</td>\n",
       "      <td>Gestifute</td>\n",
       "      <td>Manchester City</td>\n",
       "      <td>...</td>\n",
       "      <td>Sep 1, 2021</td>\n",
       "      <td>Puma</td>\n",
       "      <td></td>\n",
       "      <td>$49.50m</td>\n",
       "      <td>NaN</td>\n",
       "      <td>NaN</td>\n",
       "      <td>NaN</td>\n",
       "      <td>NaN</td>\n",
       "      <td>NaN</td>\n",
       "      <td>NaN</td>\n",
       "    </tr>\n",
       "    <tr>\n",
       "      <th>1</th>\n",
       "      <td>Stefan Ortega</td>\n",
       "      <td>Nov 6, 1992</td>\n",
       "      <td>Hofgeismar</td>\n",
       "      <td>29</td>\n",
       "      <td>1,85 m</td>\n",
       "      <td>Germany  Spain</td>\n",
       "      <td>Goalkeeper        ...</td>\n",
       "      <td>right</td>\n",
       "      <td>neblung sportsnetwork</td>\n",
       "      <td>Manchester City</td>\n",
       "      <td>...</td>\n",
       "      <td>NaN</td>\n",
       "      <td>NaN</td>\n",
       "      <td></td>\n",
       "      <td>$6.60m</td>\n",
       "      <td>Stefan Ortega Moreno</td>\n",
       "      <td>NaN</td>\n",
       "      <td>NaN</td>\n",
       "      <td>NaN</td>\n",
       "      <td>NaN</td>\n",
       "      <td>NaN</td>\n",
       "    </tr>\n",
       "    <tr>\n",
       "      <th>2</th>\n",
       "      <td>Scott Carson</td>\n",
       "      <td>Sep 3, 1985</td>\n",
       "      <td>Whitehaven</td>\n",
       "      <td>36</td>\n",
       "      <td>1,88 m</td>\n",
       "      <td>England</td>\n",
       "      <td>Goalkeeper        ...</td>\n",
       "      <td>right</td>\n",
       "      <td>Wasserman</td>\n",
       "      <td>Manchester City</td>\n",
       "      <td>...</td>\n",
       "      <td>Jun 14, 2022</td>\n",
       "      <td>Puma</td>\n",
       "      <td></td>\n",
       "      <td>$330Th.</td>\n",
       "      <td>Scott Paul Carson</td>\n",
       "      <td>NaN</td>\n",
       "      <td>NaN</td>\n",
       "      <td>NaN</td>\n",
       "      <td>NaN</td>\n",
       "      <td>NaN</td>\n",
       "    </tr>\n",
       "    <tr>\n",
       "      <th>3</th>\n",
       "      <td>Ruben Dias</td>\n",
       "      <td>May 14, 1997</td>\n",
       "      <td>Amadora</td>\n",
       "      <td>25</td>\n",
       "      <td>1,87 m</td>\n",
       "      <td>Portugal</td>\n",
       "      <td>Defender - Centre-...</td>\n",
       "      <td>right</td>\n",
       "      <td>Gestifute</td>\n",
       "      <td>Manchester City</td>\n",
       "      <td>...</td>\n",
       "      <td>Aug 30, 2021</td>\n",
       "      <td>Nike</td>\n",
       "      <td></td>\n",
       "      <td>$82.50m</td>\n",
       "      <td>Rúben Santos Gato Alves Dias</td>\n",
       "      <td>NaN</td>\n",
       "      <td>NaN</td>\n",
       "      <td>NaN</td>\n",
       "      <td>NaN</td>\n",
       "      <td>NaN</td>\n",
       "    </tr>\n",
       "    <tr>\n",
       "      <th>4</th>\n",
       "      <td>Aymeric Laporte</td>\n",
       "      <td>May 27, 1994</td>\n",
       "      <td>Agen</td>\n",
       "      <td>28</td>\n",
       "      <td>1,89 m</td>\n",
       "      <td>Spain  France</td>\n",
       "      <td>Defender - Centre-...</td>\n",
       "      <td>left</td>\n",
       "      <td>Wasserman</td>\n",
       "      <td>Manchester City</td>\n",
       "      <td>...</td>\n",
       "      <td>Feb 22, 2019</td>\n",
       "      <td>adidas</td>\n",
       "      <td></td>\n",
       "      <td>$49.50m</td>\n",
       "      <td>Aymeric Jean Louis Gerard Alphonse Laporte</td>\n",
       "      <td>NaN</td>\n",
       "      <td>NaN</td>\n",
       "      <td>NaN</td>\n",
       "      <td>NaN</td>\n",
       "      <td>NaN</td>\n",
       "    </tr>\n",
       "    <tr>\n",
       "      <th>5</th>\n",
       "      <td>John Stones</td>\n",
       "      <td>May 28, 1994</td>\n",
       "      <td>Barnsley</td>\n",
       "      <td>28</td>\n",
       "      <td>1,88 m</td>\n",
       "      <td>England</td>\n",
       "      <td>Defender - Centre-...</td>\n",
       "      <td>right</td>\n",
       "      <td>Wasserman</td>\n",
       "      <td>Manchester City</td>\n",
       "      <td>...</td>\n",
       "      <td>Aug 10, 2021</td>\n",
       "      <td>Nike</td>\n",
       "      <td></td>\n",
       "      <td>$30.80m</td>\n",
       "      <td>NaN</td>\n",
       "      <td>NaN</td>\n",
       "      <td>NaN</td>\n",
       "      <td>NaN</td>\n",
       "      <td>NaN</td>\n",
       "      <td>NaN</td>\n",
       "    </tr>\n",
       "    <tr>\n",
       "      <th>6</th>\n",
       "      <td>Nathan Ake</td>\n",
       "      <td>Feb 18, 1995</td>\n",
       "      <td>Den Haag</td>\n",
       "      <td>27</td>\n",
       "      <td>1,80 m</td>\n",
       "      <td>Netherlands  Cote d'Ivoire                  ...</td>\n",
       "      <td>Defender - Centre-...</td>\n",
       "      <td>left</td>\n",
       "      <td>Wasserman</td>\n",
       "      <td>Manchester City</td>\n",
       "      <td>...</td>\n",
       "      <td>NaN</td>\n",
       "      <td>Nike</td>\n",
       "      <td></td>\n",
       "      <td>$27.50m</td>\n",
       "      <td>Nathan Benjamin Aké</td>\n",
       "      <td>NaN</td>\n",
       "      <td>NaN</td>\n",
       "      <td>NaN</td>\n",
       "      <td>NaN</td>\n",
       "      <td>NaN</td>\n",
       "    </tr>\n",
       "    <tr>\n",
       "      <th>7</th>\n",
       "      <td>Benjamin Mendy</td>\n",
       "      <td>Jul 17, 1994</td>\n",
       "      <td>Longjumeau</td>\n",
       "      <td>28</td>\n",
       "      <td>1,85 m</td>\n",
       "      <td>France  Senegal</td>\n",
       "      <td>Defender - Left-Ba...</td>\n",
       "      <td>left</td>\n",
       "      <td>Sport Cover</td>\n",
       "      <td>Manchester City</td>\n",
       "      <td>...</td>\n",
       "      <td>NaN</td>\n",
       "      <td>adidas</td>\n",
       "      <td></td>\n",
       "      <td>-</td>\n",
       "      <td>NaN</td>\n",
       "      <td>NaN</td>\n",
       "      <td>NaN</td>\n",
       "      <td>NaN</td>\n",
       "      <td>NaN</td>\n",
       "      <td>NaN</td>\n",
       "    </tr>\n",
       "    <tr>\n",
       "      <th>8</th>\n",
       "      <td>Joao Cancelo</td>\n",
       "      <td>May 27, 1994</td>\n",
       "      <td>Barreiro</td>\n",
       "      <td>28</td>\n",
       "      <td>1,82 m</td>\n",
       "      <td>Portugal</td>\n",
       "      <td>Defender - Right-B...</td>\n",
       "      <td>right</td>\n",
       "      <td>Gestifute</td>\n",
       "      <td>Manchester City</td>\n",
       "      <td>...</td>\n",
       "      <td>Feb 1, 2022</td>\n",
       "      <td>Nike</td>\n",
       "      <td></td>\n",
       "      <td>$71.50m</td>\n",
       "      <td>João Pedro Cavaco Cancelo</td>\n",
       "      <td>NaN</td>\n",
       "      <td>NaN</td>\n",
       "      <td>NaN</td>\n",
       "      <td>NaN</td>\n",
       "      <td>NaN</td>\n",
       "    </tr>\n",
       "    <tr>\n",
       "      <th>9</th>\n",
       "      <td>Kyle Walker</td>\n",
       "      <td>May 28, 1990</td>\n",
       "      <td>Sheffield</td>\n",
       "      <td>32</td>\n",
       "      <td>1,83 m</td>\n",
       "      <td>England</td>\n",
       "      <td>Defender - Right-B...</td>\n",
       "      <td>right</td>\n",
       "      <td>CAA Base Ltd</td>\n",
       "      <td>Manchester City</td>\n",
       "      <td>...</td>\n",
       "      <td>Jun 19, 2019</td>\n",
       "      <td>Puma</td>\n",
       "      <td></td>\n",
       "      <td>$19.80m</td>\n",
       "      <td>Kyle Andrew Walker</td>\n",
       "      <td>NaN</td>\n",
       "      <td>NaN</td>\n",
       "      <td>NaN</td>\n",
       "      <td>NaN</td>\n",
       "      <td>NaN</td>\n",
       "    </tr>\n",
       "  </tbody>\n",
       "</table>\n",
       "<p>10 rows × 22 columns</p>\n",
       "</div>"
      ],
      "text/plain": [
       "        Full name: Date of birth: Place of birth:  Age: Height:  \\\n",
       "0          Ederson  Aug 17, 1993   Osasco (SP)       28  1,88 m   \n",
       "1    Stefan Ortega   Nov 6, 1992    Hofgeismar       29  1,85 m   \n",
       "2     Scott Carson   Sep 3, 1985    Whitehaven       36  1,88 m   \n",
       "3       Ruben Dias  May 14, 1997       Amadora       25  1,87 m   \n",
       "4  Aymeric Laporte  May 27, 1994          Agen       28  1,89 m   \n",
       "5      John Stones  May 28, 1994      Barnsley       28  1,88 m   \n",
       "6       Nathan Ake  Feb 18, 1995      Den Haag       27  1,80 m   \n",
       "7   Benjamin Mendy  Jul 17, 1994    Longjumeau       28  1,85 m   \n",
       "8     Joao Cancelo  May 27, 1994      Barreiro       28  1,82 m   \n",
       "9      Kyle Walker  May 28, 1990     Sheffield       32  1,83 m   \n",
       "\n",
       "                                        Citizenship:  \\\n",
       "0       Brazil  Portugal                               \n",
       "1         Germany  Spain                               \n",
       "2                England                               \n",
       "3               Portugal                               \n",
       "4          Spain  France                               \n",
       "5                England                               \n",
       "6    Netherlands  Cote d'Ivoire                  ...   \n",
       "7        France  Senegal                               \n",
       "8               Portugal                               \n",
       "9                England                               \n",
       "\n",
       "                                           Position:  Foot:  \\\n",
       "0                              Goalkeeper        ...   left   \n",
       "1                              Goalkeeper        ...  right   \n",
       "2                              Goalkeeper        ...  right   \n",
       "3                              Defender - Centre-...  right   \n",
       "4                              Defender - Centre-...   left   \n",
       "5                              Defender - Centre-...  right   \n",
       "6                              Defender - Centre-...   left   \n",
       "7                              Defender - Left-Ba...   left   \n",
       "8                              Defender - Right-B...  right   \n",
       "9                              Defender - Right-B...  right   \n",
       "\n",
       "            Player agent:  \\\n",
       "0              Gestifute    \n",
       "1  neblung sportsnetwork    \n",
       "2              Wasserman    \n",
       "3              Gestifute    \n",
       "4              Wasserman    \n",
       "5              Wasserman    \n",
       "6              Wasserman    \n",
       "7            Sport Cover    \n",
       "8              Gestifute    \n",
       "9           CAA Base Ltd    \n",
       "\n",
       "                              Current club:                          ...  \\\n",
       "0                                   Manchester City                  ...   \n",
       "1                                   Manchester City                  ...   \n",
       "2                                   Manchester City                  ...   \n",
       "3                                   Manchester City                  ...   \n",
       "4                                   Manchester City                  ...   \n",
       "5                                   Manchester City                  ...   \n",
       "6                                   Manchester City                  ...   \n",
       "7                                   Manchester City                  ...   \n",
       "8                                   Manchester City                  ...   \n",
       "9                                   Manchester City                  ...   \n",
       "\n",
       "  Date of last contract extension: Outfitter: Social-Media:  \\\n",
       "0                      Sep 1, 2021       Puma                 \n",
       "1                              NaN        NaN                 \n",
       "2                     Jun 14, 2022       Puma                 \n",
       "3                     Aug 30, 2021       Nike                 \n",
       "4                     Feb 22, 2019     adidas                 \n",
       "5                     Aug 10, 2021       Nike                 \n",
       "6                              NaN       Nike                 \n",
       "7                              NaN     adidas                 \n",
       "8                      Feb 1, 2022       Nike                 \n",
       "9                     Jun 19, 2019       Puma                 \n",
       "\n",
       "                              Market Value  \\\n",
       "0                  $49.50m                   \n",
       "1                   $6.60m                   \n",
       "2                  $330Th.                   \n",
       "3                  $82.50m                   \n",
       "4                  $49.50m                   \n",
       "5                  $30.80m                   \n",
       "6                  $27.50m                   \n",
       "7                        -                   \n",
       "8                  $71.50m                   \n",
       "9                  $19.80m                   \n",
       "\n",
       "                        Name in home country: Contract option: 2nd club:  \\\n",
       "0                                         NaN              NaN       NaN   \n",
       "1                        Stefan Ortega Moreno              NaN       NaN   \n",
       "2                           Scott Paul Carson              NaN       NaN   \n",
       "3                Rúben Santos Gato Alves Dias              NaN       NaN   \n",
       "4  Aymeric Jean Louis Gerard Alphonse Laporte              NaN       NaN   \n",
       "5                                         NaN              NaN       NaN   \n",
       "6                         Nathan Benjamin Aké              NaN       NaN   \n",
       "7                                         NaN              NaN       NaN   \n",
       "8                   João Pedro Cavaco Cancelo              NaN       NaN   \n",
       "9                          Kyle Andrew Walker              NaN       NaN   \n",
       "\n",
       "  3nd club: On loan from: Contract there expires:  \n",
       "0       NaN           NaN                     NaN  \n",
       "1       NaN           NaN                     NaN  \n",
       "2       NaN           NaN                     NaN  \n",
       "3       NaN           NaN                     NaN  \n",
       "4       NaN           NaN                     NaN  \n",
       "5       NaN           NaN                     NaN  \n",
       "6       NaN           NaN                     NaN  \n",
       "7       NaN           NaN                     NaN  \n",
       "8       NaN           NaN                     NaN  \n",
       "9       NaN           NaN                     NaN  \n",
       "\n",
       "[10 rows x 22 columns]"
      ]
     },
     "execution_count": 3,
     "metadata": {},
     "output_type": "execute_result"
    }
   ],
   "source": [
    "# Sample of df\n",
    "df.head(10)"
   ]
  },
  {
   "cell_type": "code",
   "execution_count": 4,
   "id": "207503dc",
   "metadata": {},
   "outputs": [
    {
     "data": {
      "text/plain": [
       "(548, 22)"
      ]
     },
     "execution_count": 4,
     "metadata": {},
     "output_type": "execute_result"
    }
   ],
   "source": [
    "# Shape\n",
    "df.shape"
   ]
  },
  {
   "cell_type": "code",
   "execution_count": 5,
   "id": "108d8e34",
   "metadata": {},
   "outputs": [
    {
     "data": {
      "text/plain": [
       "Full name:                                                             0\n",
       "Date of birth:                                                         0\n",
       "Place of birth:                                                        4\n",
       "Age:                                                                   0\n",
       "Height:                                                                2\n",
       "Citizenship:                                                           0\n",
       "Position:                                                              0\n",
       "Foot:                                                                  2\n",
       "Player agent:                                                         69\n",
       "                            Current club:                              0\n",
       "Joined:                                                                0\n",
       "Contract expires:                                                      0\n",
       "Date of last contract extension:                                     323\n",
       "Outfitter:                                                           263\n",
       "Social-Media:                                                         30\n",
       "Market Value                                                           2\n",
       "Name in home country:                                                145\n",
       "Contract option:                                                     465\n",
       "2nd club:                                                            541\n",
       "3nd club:                                                            546\n",
       "On loan from:                                                        538\n",
       "Contract there expires:                                              538\n",
       "dtype: int64"
      ]
     },
     "execution_count": 5,
     "metadata": {},
     "output_type": "execute_result"
    }
   ],
   "source": [
    "# Figuring out the NA values\n",
    "df.isna().sum()"
   ]
  },
  {
   "cell_type": "code",
   "execution_count": 6,
   "id": "8e80b883",
   "metadata": {
    "scrolled": true
   },
   "outputs": [],
   "source": [
    "# You might need this later when there is more data\n",
    "train, test = sk.model_selection.train_test_split(df, train_size = 0.2)"
   ]
  },
  {
   "cell_type": "markdown",
   "id": "adb55c89",
   "metadata": {},
   "source": [
    "If there is no height, I will delete those rows"
   ]
  },
  {
   "cell_type": "code",
   "execution_count": 7,
   "id": "daaab4a0",
   "metadata": {},
   "outputs": [],
   "source": [
    "# Dropping rows with no height\n",
    "df = df[df['Height:'].notnull()]\n",
    "df = df[df['Market Value'].notnull()]\n",
    "\n",
    "# Taking only numbers\n",
    "df['Height:'] = df['Height:'].astype('str').str.extractall('(\\d+)').unstack().fillna('').sum(axis=1).astype(int)"
   ]
  },
  {
   "cell_type": "code",
   "execution_count": 8,
   "id": "ddf76bca",
   "metadata": {},
   "outputs": [
    {
     "data": {
      "text/plain": [
       "count    545.000000\n",
       "mean     182.559633\n",
       "std        7.038799\n",
       "min      163.000000\n",
       "25%      178.000000\n",
       "50%      183.000000\n",
       "75%      188.000000\n",
       "max      204.000000\n",
       "Name: Height:, dtype: float64"
      ]
     },
     "execution_count": 8,
     "metadata": {},
     "output_type": "execute_result"
    }
   ],
   "source": [
    "# Looking into heights\n",
    "df['Height:'].describe()"
   ]
  },
  {
   "cell_type": "code",
   "execution_count": 9,
   "id": "d6bf3791",
   "metadata": {},
   "outputs": [
    {
     "data": {
      "text/plain": [
       "Text(0.5, 1.0, 'Spread of Height')"
      ]
     },
     "execution_count": 9,
     "metadata": {},
     "output_type": "execute_result"
    },
    {
     "data": {
      "image/png": "[encoded data removed]",
      "text/plain": [
       "<Figure size 360x360 with 1 Axes>"
      ]
     },
     "metadata": {
      "needs_background": "light"
     },
     "output_type": "display_data"
    }
   ],
   "source": [
    "# Showing Height\n",
    "sns.displot(df['Height:'])\n",
    "plt.title(\"Spread of Height\")"
   ]
  },
  {
   "cell_type": "code",
   "execution_count": 10,
   "id": "fc81157e",
   "metadata": {},
   "outputs": [
    {
     "data": {
      "text/plain": [
       "Text(0.5, 1.0, 'Spread of Height')"
      ]
     },
     "execution_count": 10,
     "metadata": {},
     "output_type": "execute_result"
    },
    {
     "data": {
      "image/png": "[encoded data removed]",
      "text/plain": [
       "<Figure size 360x360 with 1 Axes>"
      ]
     },
     "metadata": {
      "needs_background": "light"
     },
     "output_type": "display_data"
    }
   ],
   "source": [
    "# Showing Market Valuation\n",
    "sns.displot(df['Height:'])\n",
    "plt.title(\"Spread of Height\")"
   ]
  },
  {
   "cell_type": "code",
   "execution_count": 11,
   "id": "9de6a14c",
   "metadata": {},
   "outputs": [
    {
     "data": {
      "image/png": "[encoded data removed]",
      "text/plain": [
       "<Figure size 432x288 with 1 Axes>"
      ]
     },
     "metadata": {
      "needs_background": "light"
     },
     "output_type": "display_data"
    }
   ],
   "source": [
    "# Just testing out plottting\n",
    "x = df['Age:']\n",
    "y = df['Height:']\n",
    "\n",
    "plt.scatter(x, y, alpha=0.5)\n",
    "plt.title(\"Age vs Height\")\n",
    "plt.xlabel(\"Age\")\n",
    "plt.ylabel(\"Height\")\n",
    "plt.show()"
   ]
  },
  {
   "cell_type": "code",
   "execution_count": 12,
   "id": "2a1350c6",
   "metadata": {},
   "outputs": [],
   "source": [
    "df['Citizenship:'].value_counts()\n",
    "\n",
    "# Split Citizenship into 2 Columns\n",
    "\n",
    "df[['Citizenship 1', 'Citizenship 2']] = df['Citizenship:'].str.split(n=1, expand=True)"
   ]
  },
  {
   "cell_type": "code",
   "execution_count": 13,
   "id": "c9da53ea",
   "metadata": {},
   "outputs": [
    {
     "data": {
      "text/plain": [
       "Centre-Back                                   103\n",
       "Central Midfield                               72\n",
       "Centre-Forward                                 55\n",
       "Right-Back                                     48\n",
       "Left Winger                                    42\n",
       "Defensive Midfield                             41\n",
       "Left-Back                                      40\n",
       "Right Winger                                   38\n",
       "Attacking Midfield                             34\n",
       "Left Midfield                                   7\n",
       "Right Midfield                                  4\n",
       "Second Striker                                  4\n",
       "Name: Position 2, dtype: int64"
      ]
     },
     "execution_count": 13,
     "metadata": {},
     "output_type": "execute_result"
    }
   ],
   "source": [
    "# Changing positions to be more specific\n",
    "df[['Position 1', 'Position 2']] = df['Position:'].str.split(' - ', n=1, expand=True)\n",
    "df['Position 2'].value_counts()"
   ]
  }
 ],
 "metadata": {
  "kernelspec": {
   "display_name": "Python 3 (ipykernel)",
   "language": "python",
   "name": "python3"
  },
  "language_info": {
   "codemirror_mode": {
    "name": "ipython",
    "version": 3
   },
   "file_extension": ".py",
   "mimetype": "text/x-python",
   "name": "python",
   "nbconvert_exporter": "python",
   "pygments_lexer": "ipython3",
   "version": "3.9.7"
  }
 },
 "nbformat": 4,
 "nbformat_minor": 5
}
